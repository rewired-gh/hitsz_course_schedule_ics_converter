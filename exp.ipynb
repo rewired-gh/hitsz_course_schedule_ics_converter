{
 "cells": [
  {
   "cell_type": "code",
   "execution_count": 148,
   "metadata": {},
   "outputs": [],
   "source": [
    "import json\n",
    "import ics\n",
    "import re\n",
    "import datetime\n",
    "import zoneinfo\n",
    "import requests\n",
    "\n",
    "from typing import Tuple, List, Self, Any\n",
    "from dataclasses import dataclass"
   ]
  },
  {
   "cell_type": "code",
   "execution_count": 149,
   "metadata": {},
   "outputs": [],
   "source": [
    "COOKIE_EXAMPLE = 'route=xyz; _gscu_xyz=xyz; _gscbrs_xyz=xyz; JSESSIONID=xyz'\n",
    "COOKIE = '' # 最新获取的 cookie\n",
    "\n",
    "REQUEST_DATA_EXAMPLE = { 'xn': '2023-2024', 'xq': '2' }\n",
    "REQUEST_DATA = { 'xn': '2023-2024', 'xq': '2' } # 指定学年和学期\n",
    "\n",
    "START_DATE = datetime.date(2024, 3, 4) # 该学期开始日期\n",
    "CALENDAR_NAME = '2024 春季学期课表' # ICS 文件名\n",
    "\n",
    "JSON_PATH = './general_schedule.json'\n",
    "CALENDAR_CATEGORIES = [CALENDAR_NAME]\n",
    "ALARMS = [ics.DisplayAlarm(datetime.timedelta(minutes=15))] # 日程提醒"
   ]
  },
  {
   "cell_type": "code",
   "execution_count": 150,
   "metadata": {},
   "outputs": [
    {
     "data": {
      "text/plain": [
       "(datetime.time(8, 30, tzinfo=zoneinfo.ZoneInfo(key='Asia/Shanghai')),\n",
       " datetime.time(10, 15, tzinfo=zoneinfo.ZoneInfo(key='Asia/Shanghai')))"
      ]
     },
     "execution_count": 150,
     "metadata": {},
     "output_type": "execute_result"
    }
   ],
   "source": [
    "def to_time_span(from_hr, from_min, to_hr, to_min):\n",
    "    zone = zoneinfo.ZoneInfo('Asia/Shanghai')\n",
    "    return (\n",
    "        datetime.time(from_hr, from_min, 0, tzinfo=zone),\n",
    "        datetime.time(to_hr, to_min, 0, tzinfo=zone)\n",
    "    )\n",
    "\n",
    "time_slot_mapping = {\n",
    "    1: to_time_span(8, 30, 10, 15),\n",
    "    2: to_time_span(8, 30, 10, 15),\n",
    "    3: to_time_span(10, 30, 12, 15),\n",
    "    4: to_time_span(10, 30, 12, 15),\n",
    "    5: to_time_span(14, 0, 15, 45),\n",
    "    6: to_time_span(14, 0, 15, 45),\n",
    "    7: to_time_span(16, 0, 17, 45),\n",
    "    8: to_time_span(16, 0, 17, 45),\n",
    "    9: to_time_span(18, 45, 20, 30),\n",
    "    10: to_time_span(18, 45, 20, 30),\n",
    "    11: to_time_span(20, 45, 22, 30),\n",
    "    12: to_time_span(20, 45, 22, 30)\n",
    "}\n",
    "time_slot_mapping[1]"
   ]
  },
  {
   "cell_type": "code",
   "execution_count": 151,
   "metadata": {},
   "outputs": [
    {
     "name": "stdout",
     "output_type": "stream",
     "text": [
      "Request error: 500\n"
     ]
    },
    {
     "data": {
      "text/plain": [
       "[{'KCWZSM': None,\n",
       "  'RWH': '2023-2024-2-COMP3052-002',\n",
       "  'SFFXEXW': None,\n",
       "  'FILEURL': None,\n",
       "  'SKSJ': '计算机系统\\n[卢瑶]\\n[5-14,16周][T5206]\\n第3-4节',\n",
       "  'XB': 4,\n",
       "  'SKSJ_EN': 'Computer System\\n[LuYao]\\n[5-14,16Week][T5206]\\n3-4',\n",
       "  'KEY': 'xq1_jc2'},\n",
       " {'KCWZSM': None,\n",
       "  'RWH': None,\n",
       "  'SFFXEXW': '0',\n",
       "  'FILEURL': None,\n",
       "  'SKSJ': '【实验】人工智能\\n[5-6节][11-11周]\\n[T2608]',\n",
       "  'XB': 2,\n",
       "  'SKSJ_EN': '【Experiment】Artificial Intelligence[11-11Week]\\n[T2608]\\n[5-6]',\n",
       "  'KEY': 'xq1_jc3'},\n",
       " {'KCWZSM': None,\n",
       "  'RWH': None,\n",
       "  'SFFXEXW': '0',\n",
       "  'FILEURL': None,\n",
       "  'SKSJ': '【实验】人工智能\\n[7-8节][13-13周]\\n[T2608]',\n",
       "  'XB': 2,\n",
       "  'SKSJ_EN': '【Experiment】Artificial Intelligence[13-13Week]\\n[T2608]\\n[7-8]',\n",
       "  'KEY': 'xq1_jc4'}]"
      ]
     },
     "execution_count": 151,
     "metadata": {},
     "output_type": "execute_result"
    }
   ],
   "source": [
    "response = requests.post(\n",
    "    url='http://jw.hitsz.edu.cn/xszykb/queryxszykbzong',\n",
    "    headers={\n",
    "        'Accept': '*/*',\n",
    "        'Cache-Control': 'no-cache',\n",
    "        'Content-Type': 'application/x-www-form-urlencoded; charset=UTF-8',\n",
    "        'Cookie': COOKIE,\n",
    "        'DNT': '1',\n",
    "        'Origin': 'http://jw.hitsz.edu.cn',\n",
    "        'Pragma': 'no-cache',\n",
    "        'Proxy-Connection': 'keep-alive',\n",
    "        'Referer': 'http://jw.hitsz.edu.cn/authentication/main',\n",
    "        'User-Agent': 'Mozilla/5.0 (Macintosh; Intel Mac OS X 10_15_7) AppleWebKit/537.36 (KHTML, like Gecko) Chrome/123.0.0.0 Safari/537.36',\n",
    "        'X-Requested-With': 'XMLHttpRequest'\n",
    "    },\n",
    "    data=REQUEST_DATA,\n",
    "    verify=False\n",
    ")\n",
    "\n",
    "if response.ok:\n",
    "    print(f'{JSON_PATH} is up-to-date')\n",
    "    json_text = response.text\n",
    "    with open(JSON_PATH, 'w') as json_file:\n",
    "        json_file.write(response.text)\n",
    "else:\n",
    "    print(f'Request error: {response.status_code}')\n",
    "\n",
    "with open(JSON_PATH, 'r') as json_file:\n",
    "    schedule_json = json.load(json_file)\n",
    "\n",
    "# Exclude MOOC\n",
    "note_pattern = re.compile(r'备注:')\n",
    "schedule_json = list(filter(\n",
    "    lambda x: note_pattern.search(x['SKSJ']) is None,\n",
    "    schedule_json\n",
    "))\n",
    "schedule_json[:3]"
   ]
  },
  {
   "cell_type": "code",
   "execution_count": 152,
   "metadata": {},
   "outputs": [
    {
     "name": "stdout",
     "output_type": "stream",
     "text": [
      "计算机系统\n",
      "5-14,16\n",
      "3-4\n",
      "1\n",
      "卢瑶\n",
      "T5206\n"
     ]
    }
   ],
   "source": [
    "def dump_group(pattern: re.Pattern, text: str) -> str:\n",
    "    match = pattern.search(text)\n",
    "    if match is None:\n",
    "        return ''\n",
    "    groups = match.groups()\n",
    "    return groups[0]\n",
    "\n",
    "\n",
    "# Teacher and classroom pattern\n",
    "teacher_classroom_pattern = re.compile(r'\\[([^\\[\\]]+)(?<!\\d[周节])\\]')\n",
    "def extract_teacher_classroom(text: str) -> Tuple[str, str]:\n",
    "    matches = teacher_classroom_pattern.findall(text)\n",
    "    if len(matches) == 0:\n",
    "        return '', ''\n",
    "    if len(matches) == 1:\n",
    "        return '', matches[0]\n",
    "    return matches[0], matches[1]\n",
    "\n",
    "\n",
    "# Name pattern\n",
    "name_pattern = re.compile(r'^([\\w\\W]+?)\\n')\n",
    "name = dump_group(name_pattern, schedule_json[0]['SKSJ'])\n",
    "print(name)\n",
    "\n",
    "# Week spans pattern\n",
    "week_spans_pattern = re.compile(r'\\[([\\d\\,\\-]+)周\\]')\n",
    "week_spans = dump_group(week_spans_pattern, schedule_json[0]['SKSJ'])\n",
    "print(week_spans)\n",
    "\n",
    "# Time slot pattern\n",
    "time_slot_pattern = re.compile(r'[第\\[]([\\d\\-]+)节')\n",
    "time_slot = dump_group(time_slot_pattern, schedule_json[0]['SKSJ'])\n",
    "print(time_slot)\n",
    "\n",
    "# Day in a week pattern\n",
    "day_week_pattern = re.compile(r'xq(\\d+)')\n",
    "day_week = dump_group(day_week_pattern, schedule_json[0]['KEY'])\n",
    "print(day_week)\n",
    "\n",
    "teacher, classroom = extract_teacher_classroom(schedule_json[0]['SKSJ'])\n",
    "print(teacher)\n",
    "print(classroom)"
   ]
  },
  {
   "cell_type": "code",
   "execution_count": 153,
   "metadata": {},
   "outputs": [
    {
     "name": "stdout",
     "output_type": "stream",
     "text": [
      "[(5, 14), (16, 16)]\n"
     ]
    }
   ],
   "source": [
    "# Convert spans text to ranges\n",
    "def to_ranges(text: str) -> List[Tuple[int, int]]:\n",
    "    segments = text.split(',')\n",
    "    ranges = []\n",
    "    for segment in segments:\n",
    "        span = [int(x) for x in segment.split('-')]\n",
    "        if len(span) == 1:\n",
    "            ranges.append((span[0], span[0]))\n",
    "        elif len(span) >= 2:\n",
    "            ranges.append((span[0], span[-1]))\n",
    "    return ranges\n",
    "\n",
    "\n",
    "print(to_ranges('5-14,16'))"
   ]
  },
  {
   "cell_type": "code",
   "execution_count": 154,
   "metadata": {},
   "outputs": [
    {
     "data": {
      "text/plain": [
       "[CourseFragment(name='计算机系统', week_ranges=[(5, 14), (16, 16)], time_slot_ranges=[(3, 4)], teacher='卢瑶', classroom='T5206', day_week=1),\n",
       " CourseFragment(name='【实验】人工智能', week_ranges=[(11, 11)], time_slot_ranges=[(5, 6)], teacher='', classroom='T2608', day_week=1),\n",
       " CourseFragment(name='【实验】人工智能', week_ranges=[(13, 13)], time_slot_ranges=[(7, 8)], teacher='', classroom='T2608', day_week=1),\n",
       " CourseFragment(name='人工智能', week_ranges=[(3, 12)], time_slot_ranges=[(7, 8)], teacher='陈科海', classroom='T5405', day_week=1),\n",
       " CourseFragment(name='嵌入式计算', week_ranges=[(11, 16)], time_slot_ranges=[(3, 4)], teacher='张春慨', classroom='T2404', day_week=2),\n",
       " CourseFragment(name='【实验】人工智能', week_ranges=[(14, 14)], time_slot_ranges=[(3, 4)], teacher='', classroom='T2608', day_week=3),\n",
       " CourseFragment(name='人工智能', week_ranges=[(3, 8), (10, 12)], time_slot_ranges=[(3, 4)], teacher='陈科海', classroom='T5405', day_week=3),\n",
       " CourseFragment(name='【实验】计算机网络 1/第2组', week_ranges=[(13, 13)], time_slot_ranges=[(5, 6)], teacher='', classroom='T2604-T2606', day_week=3)]"
      ]
     },
     "execution_count": 154,
     "metadata": {},
     "output_type": "execute_result"
    }
   ],
   "source": [
    "@dataclass\n",
    "class CourseFragment:\n",
    "    name: str\n",
    "    week_ranges: List[Tuple[int, int]]\n",
    "    time_slot_ranges: List[Tuple[int, int]]\n",
    "    teacher: str\n",
    "    classroom: str\n",
    "    day_week: int\n",
    "    \n",
    "    @classmethod\n",
    "    def from_json(cls, obj: Any) -> Self:\n",
    "        text = obj['SKSJ']\n",
    "        name = dump_group(name_pattern, text)\n",
    "        week_spans = dump_group(week_spans_pattern, text)\n",
    "        time_slot = dump_group(time_slot_pattern, text)\n",
    "        teacher, classroom = extract_teacher_classroom(text)\n",
    "        day_week = int(dump_group(day_week_pattern, obj['KEY']))\n",
    "        return cls(name, to_ranges(week_spans), to_ranges(time_slot), teacher, classroom, day_week)\n",
    "\n",
    "\n",
    "course_fragments = [CourseFragment.from_json(x) for x in schedule_json]\n",
    "course_fragments[:8]\n"
   ]
  },
  {
   "cell_type": "code",
   "execution_count": 155,
   "metadata": {},
   "outputs": [],
   "source": [
    "cal = ics.Calendar()\n",
    "\n",
    "for fragment in course_fragments:\n",
    "    slot_start, slot_end = fragment.time_slot_ranges[0]\n",
    "    time_start, time_end = time_slot_mapping[slot_start][0], time_slot_mapping[slot_end][1]\n",
    "    for week_range in fragment.week_ranges:\n",
    "        for week in range(week_range[0], week_range[1] + 1):\n",
    "            date = START_DATE + datetime.timedelta(days=7 * (week - 1) + (fragment.day_week - 1))\n",
    "            start_date = datetime.datetime.combine(date, time_start)\n",
    "            end_date = datetime.datetime.combine(date, time_end)\n",
    "            event = ics.Event(\n",
    "                name=fragment.name,\n",
    "                begin=start_date,\n",
    "                end=end_date,\n",
    "                description=f'授课人：{fragment.teacher}',\n",
    "                location=fragment.classroom,\n",
    "                categories=CALENDAR_CATEGORIES,\n",
    "                alarms=ALARMS\n",
    "            )\n",
    "            cal.events.add(event)"
   ]
  },
  {
   "cell_type": "code",
   "execution_count": 156,
   "metadata": {},
   "outputs": [
    {
     "name": "stderr",
     "output_type": "stream",
     "text": [
      "/Users/lihaojun/Source/Python/Notebook/course_cal_conv/.venv/lib/python3.12/site-packages/ics/component.py:85: FutureWarning: Behaviour of str(Component) will change in version 0.9 to only return a short description, NOT the ics representation. Use the explicit Component.serialize() to get the ics representation.\n",
      "  warnings.warn(\n"
     ]
    }
   ],
   "source": [
    "with open(f'{CALENDAR_NAME}.ics', 'w') as ics_file:\n",
    "    ics_file.write(cal.serialize())"
   ]
  }
 ],
 "metadata": {
  "kernelspec": {
   "display_name": "Python 3",
   "language": "python",
   "name": "python3"
  },
  "language_info": {
   "codemirror_mode": {
    "name": "ipython",
    "version": 3
   },
   "file_extension": ".py",
   "mimetype": "text/x-python",
   "name": "python",
   "nbconvert_exporter": "python",
   "pygments_lexer": "ipython3",
   "version": "3.12.2"
  }
 },
 "nbformat": 4,
 "nbformat_minor": 2
}
